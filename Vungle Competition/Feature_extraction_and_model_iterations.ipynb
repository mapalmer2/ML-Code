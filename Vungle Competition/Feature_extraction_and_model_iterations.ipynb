{
 "cells": [
  {
   "cell_type": "markdown",
   "metadata": {},
   "source": [
    "# Main: Read in Sample and Iterate Models"
   ]
  },
  {
   "cell_type": "markdown",
   "metadata": {},
   "source": [
    "## (Imports and Functions at Bottom)"
   ]
  },
  {
   "cell_type": "code",
   "execution_count": 190,
   "metadata": {
    "collapsed": false
   },
   "outputs": [],
   "source": [
    "df = pd.read_csv('EDA_df_3Mar17.csv')"
   ]
  },
  {
   "cell_type": "code",
   "execution_count": 191,
   "metadata": {
    "collapsed": false
   },
   "outputs": [
    {
     "data": {
      "text/plain": [
       "200000"
      ]
     },
     "execution_count": 191,
     "metadata": {},
     "output_type": "execute_result"
    }
   ],
   "source": [
    "len(df)"
   ]
  },
  {
   "cell_type": "code",
   "execution_count": 192,
   "metadata": {
    "collapsed": false
   },
   "outputs": [
    {
     "name": "stdout",
     "output_type": "stream",
     "text": [
      "Calculating time deltas\n",
      "Adding Hour and Day\n",
      "Merging ratings data\n",
      "Merging genres data\n",
      "Bucketing continuous variables\n",
      "Finished\n"
     ]
    }
   ],
   "source": [
    "df = add_features(df, True)"
   ]
  },
  {
   "cell_type": "code",
   "execution_count": 143,
   "metadata": {
    "collapsed": false
   },
   "outputs": [
    {
     "name": "stdout",
     "output_type": "stream",
     "text": [
      "[0.35458364524233654, 0.85134022474663329, 0.3970825447291732, 0.79083971179428914]\n"
     ]
    }
   ],
   "source": [
    "cat_features_pc = ['advertiser_app_store_id', 'country_code', 'publisher_app_store_id', 'device_make', 'device_model',\n",
    "                  'device_screen_height', 'device_screen_width', 'video_height_mode', 'video_width_mode',\n",
    "                   'creative_language', 'n_vungle_installs_5groups', 'n_campaign_views_8groups', \n",
    "                   's_since_delivery_any_installed_app_8groups', 'creative_delivery_frequency_cap', 'same_language'\n",
    "                   ,'n_user_ratings_2groups', 'user_rating_8groups', 'n_user_ratings_pub_5groups',\n",
    "                   'ad_genres', 'pub_genres', 'request_hour', 'request_day_of_month', 'time_zone'\n",
    "                 ]\n",
    "cont_features_pc = None\n",
    "cat_interactions_pc = [('advertiser_app_store_id', 'publisher_app_store_id','country_code'),\n",
    "                       ('advertiser_app_store_id', 'country_code'),\n",
    "                       ('publisher_app_store_id', 'country_code'),\n",
    "                       ('advertiser_app_store_id', 'publisher_app_store_id'),\n",
    "                       ('device_screen_width', 'video_width_mode'),\n",
    "                       ('creative_language', 'country_code'),\n",
    "                       ('ad_genres', 'pub_genres'),\n",
    "                       ('request_hour', 'request_day_of_month'),\n",
    "                       ('request_hour', 'time_zone'),\n",
    "                       ('n_vungle_installs_5groups', 'n_campaign_views_8groups')\n",
    "                     ]\n",
    "X_train, y_train, X_test, y_test = train_test(df, cat_features_pc, cont_features_pc, cat_interactions_pc)\n",
    "model = LogisticRegression(C = .1, solver = 'sag', max_iter=500)\n",
    "model.fit(X_train, y_train)\n",
    "\n",
    "# Calculate prediction/probability of train and test\n",
    "X_train_predictions = model.predict(X_train)\n",
    "X_train_predprob = model.predict_proba(X_train)[:, 1]\n",
    "\n",
    "X_test_predictions = model.predict(X_test)\n",
    "X_test_predprob = model.predict_proba(X_test)[:, 1]\n",
    "\n",
    "train_ll =  log_loss(y_train, X_train_predprob)\n",
    "train_auc = roc_auc_score(y_train, X_train_predprob)\n",
    "test_ll = log_loss(y_test, X_test_predprob)\n",
    "test_auc = roc_auc_score(y_test, X_test_predprob)\n",
    "model_full = [train_ll, train_auc, test_ll, test_auc]\n",
    "print(model_full)"
   ]
  },
  {
   "cell_type": "markdown",
   "metadata": {},
   "source": [
    "## Baseline Model"
   ]
  },
  {
   "cell_type": "code",
   "execution_count": 133,
   "metadata": {
    "collapsed": false
   },
   "outputs": [
    {
     "name": "stdout",
     "output_type": "stream",
     "text": [
      "[0.38224628671139177, 0.82092085250298574, 0.41403764584261982, 0.76389509295065816]\n"
     ]
    }
   ],
   "source": [
    "cat_features_pc = ['advertiser_app_store_id', 'country_code', 'publisher_app_store_id'\n",
    "                 ]\n",
    "cont_features_pc = None\n",
    "cat_interactions_pc = [('advertiser_app_store_id', 'publisher_app_store_id','country_code'),\n",
    "                       ('advertiser_app_store_id', 'country_code'),\n",
    "                       ('publisher_app_store_id', 'country_code'),\n",
    "                       ('advertiser_app_store_id', 'publisher_app_store_id')\n",
    "                       \n",
    "                     ]\n",
    "X_train, y_train, X_test, y_test = train_test(df, cat_features_pc, cont_features_pc, cat_interactions_pc)\n",
    "model = LogisticRegression(C = .1, solver = 'sag', max_iter=200)\n",
    "model.fit(X_train, y_train)\n",
    "\n",
    "# Calculate prediction/probability of train and test\n",
    "X_train_predictions = model.predict(X_train)\n",
    "X_train_predprob = model.predict_proba(X_train)[:, 1]\n",
    "\n",
    "X_test_predictions = model.predict(X_test)\n",
    "X_test_predprob = model.predict_proba(X_test)[:, 1]\n",
    "\n",
    "train_ll =  log_loss(y_train, X_train_predprob)\n",
    "train_auc = roc_auc_score(y_train, X_train_predprob)\n",
    "test_ll = log_loss(y_test, X_test_predprob)\n",
    "test_auc = roc_auc_score(y_test, X_test_predprob)\n",
    "model_baseline = [train_ll, train_auc, test_ll, test_auc]\n",
    "print(model_baseline)"
   ]
  },
  {
   "cell_type": "markdown",
   "metadata": {},
   "source": [
    "## Device and Video Features"
   ]
  },
  {
   "cell_type": "code",
   "execution_count": 134,
   "metadata": {
    "collapsed": false
   },
   "outputs": [
    {
     "name": "stdout",
     "output_type": "stream",
     "text": [
      "[0.37538673084168239, 0.83059272123102668, 0.41293960087559622, 0.76571797459616842]\n"
     ]
    }
   ],
   "source": [
    "cat_features_pc = ['advertiser_app_store_id', 'country_code', 'publisher_app_store_id', 'device_make', 'device_model',\n",
    "                  'device_screen_height', 'device_screen_width', 'video_height_mode', 'video_width_mode'\n",
    "                 ]\n",
    "cont_features_pc = None\n",
    "cat_interactions_pc = [('advertiser_app_store_id', 'publisher_app_store_id','country_code'),\n",
    "                       ('advertiser_app_store_id', 'country_code'),\n",
    "                       ('publisher_app_store_id', 'country_code'),\n",
    "                       ('advertiser_app_store_id', 'publisher_app_store_id'),\n",
    "                       ('device_screen_width', 'video_width_mode')\n",
    "                     ]\n",
    "X_train, y_train, X_test, y_test = train_test(df, cat_features_pc, cont_features_pc, cat_interactions_pc)\n",
    "model = LogisticRegression(C = .1, solver = 'sag', max_iter=200)\n",
    "model.fit(X_train, y_train)\n",
    "\n",
    "# Calculate prediction/probability of train and test\n",
    "X_train_predictions = model.predict(X_train)\n",
    "X_train_predprob = model.predict_proba(X_train)[:, 1]\n",
    "\n",
    "X_test_predictions = model.predict(X_test)\n",
    "X_test_predprob = model.predict_proba(X_test)[:, 1]\n",
    "\n",
    "train_ll =  log_loss(y_train, X_train_predprob)\n",
    "train_auc = roc_auc_score(y_train, X_train_predprob)\n",
    "test_ll = log_loss(y_test, X_test_predprob)\n",
    "test_auc = roc_auc_score(y_test, X_test_predprob)\n",
    "model_device = [train_ll, train_auc, test_ll, test_auc]\n",
    "print(model_device)"
   ]
  },
  {
   "cell_type": "markdown",
   "metadata": {},
   "source": [
    "## User features"
   ]
  },
  {
   "cell_type": "code",
   "execution_count": 144,
   "metadata": {
    "collapsed": false
   },
   "outputs": [
    {
     "name": "stdout",
     "output_type": "stream",
     "text": [
      "[0.36889743823755439, 0.83487052919625371, 0.39958290035993199, 0.78688807957709195]\n"
     ]
    }
   ],
   "source": [
    "cat_features_pc = ['advertiser_app_store_id', 'country_code', 'publisher_app_store_id',\n",
    "                   'n_vungle_installs_5groups', 'n_campaign_views_8groups', \n",
    "                   's_since_delivery_any_installed_app_8groups'\n",
    "                 ]\n",
    "cont_features_pc = None\n",
    "cat_interactions_pc = [('advertiser_app_store_id', 'publisher_app_store_id','country_code'),\n",
    "                       ('advertiser_app_store_id', 'country_code'),\n",
    "                       ('publisher_app_store_id', 'country_code'),\n",
    "                       ('advertiser_app_store_id', 'publisher_app_store_id'),\n",
    "                       ('n_vungle_installs_5groups', 'n_campaign_views_8groups')\n",
    "                     ]\n",
    "X_train, y_train, X_test, y_test = train_test(df, cat_features_pc, cont_features_pc, cat_interactions_pc)\n",
    "model = LogisticRegression(C = .1, solver = 'sag', max_iter=200)\n",
    "model.fit(X_train, y_train)\n",
    "\n",
    "# Calculate prediction/probability of train and test\n",
    "X_train_predictions = model.predict(X_train)\n",
    "X_train_predprob = model.predict_proba(X_train)[:, 1]\n",
    "\n",
    "X_test_predictions = model.predict(X_test)\n",
    "X_test_predprob = model.predict_proba(X_test)[:, 1]\n",
    "\n",
    "train_ll =  log_loss(y_train, X_train_predprob)\n",
    "train_auc = roc_auc_score(y_train, X_train_predprob)\n",
    "test_ll = log_loss(y_test, X_test_predprob)\n",
    "test_auc = roc_auc_score(y_test, X_test_predprob)\n",
    "model_users = [train_ll, train_auc, test_ll, test_auc]\n",
    "print(model_users)"
   ]
  },
  {
   "cell_type": "markdown",
   "metadata": {},
   "source": [
    "## Creative Features"
   ]
  },
  {
   "cell_type": "code",
   "execution_count": 135,
   "metadata": {
    "collapsed": false
   },
   "outputs": [
    {
     "name": "stdout",
     "output_type": "stream",
     "text": [
      "[0.38201890680842315, 0.82104087716439311, 0.41401982439206192, 0.7638785806536752]\n"
     ]
    }
   ],
   "source": [
    "cat_features_pc = ['advertiser_app_store_id', 'country_code', 'publisher_app_store_id', \n",
    "                   'creative_language', 'creative_delivery_frequency_cap', 'same_language'\n",
    "                 ]\n",
    "cont_features_pc = None\n",
    "cat_interactions_pc = [('advertiser_app_store_id', 'publisher_app_store_id','country_code'),\n",
    "                       ('advertiser_app_store_id', 'country_code'),\n",
    "                       ('publisher_app_store_id', 'country_code'),\n",
    "                       ('advertiser_app_store_id', 'publisher_app_store_id'),\n",
    "                       ('creative_language', 'country_code')\n",
    "                     ]\n",
    "X_train, y_train, X_test, y_test = train_test(df, cat_features_pc, cont_features_pc, cat_interactions_pc)\n",
    "model = LogisticRegression(C = .1, solver = 'sag', max_iter=200)\n",
    "model.fit(X_train, y_train)\n",
    "\n",
    "# Calculate prediction/probability of train and test\n",
    "X_train_predictions = model.predict(X_train)\n",
    "X_train_predprob = model.predict_proba(X_train)[:, 1]\n",
    "\n",
    "X_test_predictions = model.predict(X_test)\n",
    "X_test_predprob = model.predict_proba(X_test)[:, 1]\n",
    "\n",
    "train_ll =  log_loss(y_train, X_train_predprob)\n",
    "train_auc = roc_auc_score(y_train, X_train_predprob)\n",
    "test_ll = log_loss(y_test, X_test_predprob)\n",
    "test_auc = roc_auc_score(y_test, X_test_predprob)\n",
    "model_creatives = [train_ll, train_auc, test_ll, test_auc]\n",
    "print(model_creatives)"
   ]
  },
  {
   "cell_type": "markdown",
   "metadata": {},
   "source": [
    "## Genre Features"
   ]
  },
  {
   "cell_type": "code",
   "execution_count": 138,
   "metadata": {
    "collapsed": false
   },
   "outputs": [
    {
     "name": "stdout",
     "output_type": "stream",
     "text": [
      "[0.37817189713663263, 0.82417482968353784, 0.4126397239518102, 0.76596191158565441]\n"
     ]
    }
   ],
   "source": [
    "cat_features_pc = ['advertiser_app_store_id', 'country_code', 'publisher_app_store_id',\n",
    "                   'ad_genres', 'pub_genres'\n",
    "                 ]\n",
    "cont_features_pc = None\n",
    "cat_interactions_pc = [('advertiser_app_store_id', 'publisher_app_store_id','country_code'),\n",
    "                       ('advertiser_app_store_id', 'country_code'),\n",
    "                       ('publisher_app_store_id', 'country_code'),\n",
    "                       ('advertiser_app_store_id', 'publisher_app_store_id'),\n",
    "                      \n",
    "                       ('ad_genres', 'pub_genres')\n",
    "                      \n",
    "                     ]\n",
    "X_train, y_train, X_test, y_test = train_test(df, cat_features_pc, cont_features_pc, cat_interactions_pc)\n",
    "model = LogisticRegression(C = .1, solver = 'sag', max_iter=200)\n",
    "model.fit(X_train, y_train)\n",
    "\n",
    "# Calculate prediction/probability of train and test\n",
    "X_train_predictions = model.predict(X_train)\n",
    "X_train_predprob = model.predict_proba(X_train)[:, 1]\n",
    "\n",
    "X_test_predictions = model.predict(X_test)\n",
    "X_test_predprob = model.predict_proba(X_test)[:, 1]\n",
    "\n",
    "train_ll =  log_loss(y_train, X_train_predprob)\n",
    "train_auc = roc_auc_score(y_train, X_train_predprob)\n",
    "test_ll = log_loss(y_test, X_test_predprob)\n",
    "test_auc = roc_auc_score(y_test, X_test_predprob)\n",
    "model_genres = [train_ll, train_auc, test_ll, test_auc]\n",
    "print(model_genres)"
   ]
  },
  {
   "cell_type": "markdown",
   "metadata": {},
   "source": [
    "## Time/Date Features"
   ]
  },
  {
   "cell_type": "code",
   "execution_count": 139,
   "metadata": {
    "collapsed": false
   },
   "outputs": [
    {
     "name": "stdout",
     "output_type": "stream",
     "text": [
      "[0.37859693130552224, 0.82602203306377331, 0.4138534811969814, 0.76391461404285277]\n"
     ]
    }
   ],
   "source": [
    "cat_features_pc = ['advertiser_app_store_id', 'country_code', 'publisher_app_store_id',  'request_hour', 'request_day_of_month', 'time_zone'\n",
    "                 ]\n",
    "cont_features_pc = None\n",
    "cat_interactions_pc = [('advertiser_app_store_id', 'publisher_app_store_id','country_code'),\n",
    "                       ('advertiser_app_store_id', 'country_code'),\n",
    "                       ('publisher_app_store_id', 'country_code'),\n",
    "                       ('advertiser_app_store_id', 'publisher_app_store_id'),\n",
    "                       \n",
    "                       ('request_hour', 'request_day_of_month'),\n",
    "                       ('request_hour', 'time_zone')\n",
    "\n",
    "                     ]\n",
    "X_train, y_train, X_test, y_test = train_test(df, cat_features_pc, cont_features_pc, cat_interactions_pc)\n",
    "model = LogisticRegression(C = .1, solver = 'sag', max_iter=200)\n",
    "model.fit(X_train, y_train)\n",
    "\n",
    "# Calculate prediction/probability of train and test\n",
    "X_train_predictions = model.predict(X_train)\n",
    "X_train_predprob = model.predict_proba(X_train)[:, 1]\n",
    "\n",
    "X_test_predictions = model.predict(X_test)\n",
    "X_test_predprob = model.predict_proba(X_test)[:, 1]\n",
    "\n",
    "train_ll =  log_loss(y_train, X_train_predprob)\n",
    "train_auc = roc_auc_score(y_train, X_train_predprob)\n",
    "test_ll = log_loss(y_test, X_test_predprob)\n",
    "test_auc = roc_auc_score(y_test, X_test_predprob)\n",
    "model_time_date = [train_ll, train_auc, test_ll, test_auc]\n",
    "print(model_time_date)"
   ]
  },
  {
   "cell_type": "markdown",
   "metadata": {},
   "source": [
    "## Ratings Features"
   ]
  },
  {
   "cell_type": "code",
   "execution_count": 142,
   "metadata": {
    "collapsed": false
   },
   "outputs": [
    {
     "name": "stdout",
     "output_type": "stream",
     "text": [
      "[0.38205228422889348, 0.82044643085312585, 0.41376691021595691, 0.76421768432048576]\n"
     ]
    }
   ],
   "source": [
    "cat_features_pc = ['advertiser_app_store_id', 'country_code', 'publisher_app_store_id',\n",
    "                   'n_user_ratings_2groups', 'user_rating_8groups', 'n_user_ratings_pub_5groups'\n",
    "                   \n",
    "                 ]\n",
    "cont_features_pc = None\n",
    "cat_interactions_pc = [('advertiser_app_store_id', 'publisher_app_store_id','country_code'),\n",
    "                       ('advertiser_app_store_id', 'country_code'),\n",
    "                       ('publisher_app_store_id', 'country_code'),\n",
    "                       ('advertiser_app_store_id', 'publisher_app_store_id')\n",
    "                      \n",
    "                     ]\n",
    "X_train, y_train, X_test, y_test = train_test(df, cat_features_pc, cont_features_pc, cat_interactions_pc)\n",
    "model = LogisticRegression(C = .1, solver = 'sag', max_iter=200)\n",
    "model.fit(X_train, y_train)\n",
    "\n",
    "# Calculate prediction/probability of train and test\n",
    "X_train_predictions = model.predict(X_train)\n",
    "X_train_predprob = model.predict_proba(X_train)[:, 1]\n",
    "\n",
    "X_test_predictions = model.predict(X_test)\n",
    "X_test_predprob = model.predict_proba(X_test)[:, 1]\n",
    "\n",
    "train_ll =  log_loss(y_train, X_train_predprob)\n",
    "train_auc = roc_auc_score(y_train, X_train_predprob)\n",
    "test_ll = log_loss(y_test, X_test_predprob)\n",
    "test_auc = roc_auc_score(y_test, X_test_predprob)\n",
    "model_ratings = [train_ll, train_auc, test_ll, test_auc]\n",
    "print(model_ratings)"
   ]
  },
  {
   "cell_type": "markdown",
   "metadata": {},
   "source": [
    "## Organize model iterations into dataframe/csv"
   ]
  },
  {
   "cell_type": "code",
   "execution_count": 184,
   "metadata": {
    "collapsed": false
   },
   "outputs": [],
   "source": [
    "results_df = pd.DataFrame([model_baseline, model_users, model_genres, model_device, model_ratings,\n",
    "                   model_time_date, model_creatives, model_full])"
   ]
  },
  {
   "cell_type": "code",
   "execution_count": 185,
   "metadata": {
    "collapsed": false
   },
   "outputs": [],
   "source": [
    "results_df.index = ['Baseline', '+User Data','+Genres','+Device/Video', '+Ratings', '+Time/Date', '+Creatives',  'Final Full Model']"
   ]
  },
  {
   "cell_type": "code",
   "execution_count": 186,
   "metadata": {
    "collapsed": false
   },
   "outputs": [],
   "source": [
    "results_df.columns = ['Train log-loss', 'Train AUC', 'Test log-loss', 'Test AUC']"
   ]
  },
  {
   "cell_type": "code",
   "execution_count": 162,
   "metadata": {
    "collapsed": false
   },
   "outputs": [],
   "source": [
    "results_df.to_csv('Model_iterations.csv')"
   ]
  },
  {
   "cell_type": "code",
   "execution_count": 187,
   "metadata": {
    "collapsed": false
   },
   "outputs": [],
   "source": [
    "# Also get in terms of % change from baseline\n",
    "results_df2 = results_df\n",
    "results_df2.iloc[1:, :] = (results_df.iloc[1:,:] - results_df.iloc[0,:]) / results_df.iloc[0,:]\n",
    "results_df2.to_csv('model_iterations_percents.csv')"
   ]
  },
  {
   "cell_type": "markdown",
   "metadata": {},
   "source": [
    "## get_n_buckets demo, with n_vungle_installs and n_campaign_views"
   ]
  },
  {
   "cell_type": "code",
   "execution_count": 196,
   "metadata": {
    "collapsed": false
   },
   "outputs": [
    {
     "data": {
      "text/plain": [
       "count         200000.0\n",
       "mean           0.17811\n",
       "std     0.731873968724\n",
       "min                0.0\n",
       "25%                0.0\n",
       "50%                0.0\n",
       "75%                0.0\n",
       "max               47.0\n",
       "Name: n_vungle_installs, dtype: float64"
      ]
     },
     "execution_count": 196,
     "metadata": {},
     "output_type": "execute_result"
    }
   ],
   "source": [
    "df.n_vungle_installs.describe()"
   ]
  },
  {
   "cell_type": "code",
   "execution_count": 197,
   "metadata": {
    "collapsed": false
   },
   "outputs": [
    {
     "data": {
      "text/plain": [
       "count       200000.0\n",
       "mean        3.225385\n",
       "std     41.947891541\n",
       "min              0.0\n",
       "25%              0.0\n",
       "50%              0.0\n",
       "75%              2.0\n",
       "max           9735.0\n",
       "Name: n_campaign_views, dtype: float64"
      ]
     },
     "execution_count": 197,
     "metadata": {},
     "output_type": "execute_result"
    }
   ],
   "source": [
    "df.n_campaign_views.describe()"
   ]
  },
  {
   "cell_type": "code",
   "execution_count": 199,
   "metadata": {
    "collapsed": false
   },
   "outputs": [
    {
     "data": {
      "text/plain": [
       "(array([  1.99927000e+05,   4.40000000e+01,   2.00000000e+00,\n",
       "          1.20000000e+01,   1.50000000e+01]),\n",
       " array([  0. ,   9.4,  18.8,  28.2,  37.6,  47. ]),\n",
       " <a list of 5 Patch objects>)"
      ]
     },
     "execution_count": 199,
     "metadata": {},
     "output_type": "execute_result"
    },
    {
     "data": {
      "image/png": "[encoded data removed]",
      "text/plain": [
       "<matplotlib.figure.Figure at 0x14d9a3750>"
      ]
     },
     "metadata": {},
     "output_type": "display_data"
    }
   ],
   "source": [
    "plt.hist(df.n_vungle_installs, bins=5)"
   ]
  },
  {
   "cell_type": "markdown",
   "metadata": {},
   "source": [
    "### If histogram bins or n-tiles are used, 0's span multiple groups and no guarantee on number of unique groups. 'get_n_buckets' fixes that"
   ]
  },
  {
   "cell_type": "code",
   "execution_count": 338,
   "metadata": {
    "collapsed": false
   },
   "outputs": [
    {
     "name": "stderr",
     "output_type": "stream",
     "text": [
      "/Users/PhilRotella/anaconda3/envs/msan/lib/python2.7/site-packages/numpy/core/_methods.py:59: RuntimeWarning: Mean of empty slice.\n",
      "  warnings.warn(\"Mean of empty slice.\", RuntimeWarning)\n"
     ]
    }
   ],
   "source": [
    "df = add_grouping_columns(cont_feature='n_vungle_installs', df = df)\n",
    "df.loc[:, 'n_vungle_installs_20groups'] = get_n_buckets(df.n_vungle_installs, 20)"
   ]
  },
  {
   "cell_type": "code",
   "execution_count": 340,
   "metadata": {
    "collapsed": false
   },
   "outputs": [
    {
     "data": {
      "text/plain": [
       "<matplotlib.text.Text at 0x1b8aa2210>"
      ]
     },
     "execution_count": 340,
     "metadata": {},
     "output_type": "execute_result"
    },
    {
     "data": {
      "image/png": "[encoded data removed]",
      "text/plain": [
       "<matplotlib.figure.Figure at 0x1b8264e90>"
      ]
     },
     "metadata": {},
     "output_type": "display_data"
    }
   ],
   "source": [
    "colors = ['red', 'orange', 'yellow', 'green', 'blue', 'violet']\n",
    "n_list = [2, 3, 5, 8, 16, 20]\n",
    "fig, ax = plt.subplots()\n",
    "for x in range(6):\n",
    "    n = n_list[x]\n",
    "    col = \"n_vungle_installs_{}groups\".format(n)\n",
    "    vals = sorted(df[col].unique())\n",
    "    counts = (df.groupby(col)[col].count())\n",
    "    widths = [vals[i] - vals[i - 1] for i in range(1, len(vals))] + [max(vals) - vals[len(vals) - 1]]\n",
    "    bars = [vals[i] - widths[i] for i in range(len(vals))]\n",
    "    \n",
    "    ax.bar(vals, counts, width = widths, log = True, alpha = .6, color = colors[x], label = \"{} groups\".format(n), linewidth = 1,edgecolor = 'black')\n",
    "\n",
    "plt.yticks([10**x for x in range(6)])\n",
    "plt.legend(loc = 'upper center')\n",
    "plt.xlabel('Number of Vungle Installs')\n",
    "plt.ylabel('log(Size of Group)')\n",
    "plt.title(\"Grouping of 'n_vungle_installs' using 'get_n_buckets'\\n\")"
   ]
  },
  {
   "cell_type": "markdown",
   "metadata": {},
   "source": [
    "### Notes: With 5 groups or less, all groups have at least 1000 rows (200k sample); not true with 8+ groups"
   ]
  },
  {
   "cell_type": "code",
   "execution_count": 209,
   "metadata": {
    "collapsed": true
   },
   "outputs": [],
   "source": [
    "df = add_grouping_columns(cont_feature='n_campaign_views', df = df)"
   ]
  },
  {
   "cell_type": "code",
   "execution_count": 336,
   "metadata": {
    "collapsed": false
   },
   "outputs": [
    {
     "data": {
      "image/png": "[encoded data removed]",
      "text/plain": [
       "<matplotlib.figure.Figure at 0x1b62a0590>"
      ]
     },
     "metadata": {},
     "output_type": "display_data"
    }
   ],
   "source": [
    "colors = ['red', 'orange', 'yellow', 'green', 'blue', 'violet']\n",
    "n_list = [2, 3, 5, 8, 16, 20]\n",
    "fig, ax = plt.subplots()\n",
    "for x in range(6):\n",
    "    n = n_list[x]\n",
    "    col = \"n_campaign_views_{}groups\".format(n)\n",
    "    vals = [i + 1 for i in sorted(df[col].unique())]\n",
    "    counts = (df.groupby(col)[col].count())\n",
    "    widths = [vals[i] - vals[i - 1] for i in range(1, n)] + [max(vals) - vals[n - 1]]\n",
    "    bars = [vals[i] - widths[i] for i in range(n)]\n",
    "    \n",
    "    ax.bar(vals, counts, width = widths, log = True, alpha = .6, color = colors[x], label = \"{} groups\".format(n), linewidth = 1,edgecolor = 'black')\n",
    "ax.set_xscale(\"log\", nonposx='clip')\n",
    "plt.yticks([10**x for x in range(6)])\n",
    "plt.xticks([10**x for x in range(5)])\n",
    "plt.xlim([0, 10**4 + 2000])\n",
    "plt.legend(loc = 0)\n",
    "plt.xlabel('log(Number of Campaign Views)')\n",
    "plt.ylabel('log(Size of Group)')\n",
    "plt.title(\"Grouping of 'n_campaign_views' using 'get_n_buckets'\\n\")\n",
    "plt.show()\n",
    "plt.close()"
   ]
  },
  {
   "cell_type": "markdown",
   "metadata": {},
   "source": [
    "### Note: With 16 groups or less, all groups have at least 1000 rows (200k sample); not true with 20+ groups"
   ]
  },
  {
   "cell_type": "code",
   "execution_count": 16,
   "metadata": {
    "collapsed": false
   },
   "outputs": [],
   "source": [
    "import mmh3\n",
    "import numpy as np\n",
    "import pandas as pd\n",
    "from scipy import sparse\n",
    "from sklearn.preprocessing import scale\n",
    "from sklearn.base import BaseEstimator, TransformerMixin\n",
    "from sklearn.model_selection import GridSearchCV\n",
    "from sklearn.linear_model import LogisticRegression\n",
    "from sklearn.metrics import log_loss, roc_auc_score\n",
    "from sklearn.metrics import mean_squared_error\n",
    "from sklearn.metrics import explained_variance_score\n",
    "from sklearn.model_selection import train_test_split\n",
    "from sklearn.linear_model import LogisticRegressionCV\n",
    "from matplotlib import pyplot as plt\n",
    "%matplotlib inline"
   ]
  },
  {
   "cell_type": "code",
   "execution_count": 128,
   "metadata": {
    "collapsed": false
   },
   "outputs": [],
   "source": [
    "# Hashing function\n",
    "def _murmur_32s(key, seed):\n",
    "    if isinstance(key, unicode):\n",
    "        bkey = key.encode('utf-8')\n",
    "    elif isinstance(key, bytes):\n",
    "        bkey = key\n",
    "    else:\n",
    "        #bkey= str(key)\n",
    "        raise ValueError(\"the key must be either unicode or str. key: {}\".format(key))\n",
    "    return mmh3.hash(bkey, seed)\n",
    "\n",
    "  \n",
    "# Hash features of DataFrame X using the hashing function\n",
    "def _transform(X, n_bits, categorical_features,\n",
    "              continuous_features, interaction_features,\n",
    "              store_fmap=False):\n",
    "    n_samples = X.shape[0] \\\n",
    "        if isinstance(X, pd.DataFrame) \\\n",
    "        else len(X.values()[0])\n",
    "    hash_mask = 2 ** n_bits - 1\n",
    "    n_features = \\\n",
    "        len(categorical_features) + \\\n",
    "        len(continuous_features) + \\\n",
    "        len(interaction_features)\n",
    "    n_hashed_features = n_samples * n_features\n",
    "    # assert n_hashed_features > 0\n",
    "    rows = np.empty(n_hashed_features, dtype=np.int32)\n",
    "    cols = np.empty(n_hashed_features, dtype=np.int32)\n",
    "    vals = np.zeros(n_hashed_features)\n",
    "    hashed_feature_idx = 0\n",
    "    f_map = {}\n",
    "\n",
    "    for f in categorical_features:\n",
    "        Xf = X[f]\n",
    "        hash_seed = _murmur_32s(f, 0)\n",
    "        for sample_idx in range(n_samples):\n",
    "            hash_value = _murmur_32s(Xf[sample_idx], hash_seed)\n",
    "            hash_sign = (hash_value >= 0) * 2 - 1\n",
    "\n",
    "            if store_fmap:\n",
    "                f_combined = ((f,), Xf[sample_idx])\n",
    "                if f_combined not in f_map:\n",
    "                    f_map[f_combined] = hash_value & hash_mask\n",
    "\n",
    "            rows[hashed_feature_idx] = sample_idx\n",
    "            cols[hashed_feature_idx] = hash_value & hash_mask\n",
    "            vals[hashed_feature_idx] += hash_sign\n",
    "            hashed_feature_idx += 1\n",
    "\n",
    "    for f in continuous_features:\n",
    "        Xf = X[f]\n",
    "        hash_value = _murmur_32s(f, 0)\n",
    "        hash_sign = (hash_value >= 0) * 2 - 1\n",
    "        if store_fmap:\n",
    "            f_combined = ((f,),)\n",
    "            f_map[f_combined] = hash_value & hash_mask\n",
    "        for sample_idx in range(n_samples):\n",
    "            rows[hashed_feature_idx] = sample_idx\n",
    "            cols[hashed_feature_idx] = hash_value & hash_mask\n",
    "            vals[hashed_feature_idx] += hash_sign * Xf[sample_idx]\n",
    "            hashed_feature_idx += 1\n",
    "\n",
    "    for feature_names in interaction_features:\n",
    "        hash_seed = 0\n",
    "        for f in feature_names:\n",
    "            hash_seed = _murmur_32s(f, hash_seed)\n",
    "\n",
    "        for sample_idx in range(n_samples):\n",
    "            hash_value = hash_seed\n",
    "            interaction_value = 1\n",
    "\n",
    "            value_cache = ()\n",
    "            for f in feature_names:\n",
    "                if f in continuous_features:\n",
    "                    interaction_value *= X[f][sample_idx]\n",
    "                    value_cache += (f,)\n",
    "                else:\n",
    "                    value_cache += (X[f][sample_idx],)\n",
    "                    hash_value = _murmur_32s(\n",
    "                        X[f][sample_idx], hash_value\n",
    "                    )\n",
    "\n",
    "            if store_fmap:\n",
    "                f_combined = (feature_names, value_cache)\n",
    "                if f_combined not in f_map:\n",
    "                    f_map[f_combined] = hash_value & hash_mask\n",
    "\n",
    "            hash_sign = (hash_value >= 0) * 2 - 1\n",
    "            rows[hashed_feature_idx] = sample_idx\n",
    "            cols[hashed_feature_idx] = hash_value & hash_mask\n",
    "            vals[hashed_feature_idx] += hash_sign * interaction_value\n",
    "            hashed_feature_idx += 1\n",
    "\n",
    "    n_dim_hashed_features = hash_mask + 1\n",
    "\n",
    "    # reverse k and v, if v is duplicated, append k to v\n",
    "    f_map_rev = {}\n",
    "    for k, v in f_map.items():\n",
    "        if v not in f_map_rev:\n",
    "            f_map_rev[v] = [k]\n",
    "        else:\n",
    "            f_map_rev[v] = f_map_rev[v] + [k]\n",
    "\n",
    "    return sparse.coo_matrix(\n",
    "        (vals, (rows, cols)),\n",
    "        (n_samples, n_dim_hashed_features)\n",
    "    ).tocsr(), f_map_rev\n",
    "\n",
    "# Wrapper class for hashing function\n",
    "class FeatureHasher(BaseEstimator, TransformerMixin):\n",
    "    def __init__(self,\n",
    "                 n_bits=22,\n",
    "                 categorical_features=None,\n",
    "                 continuous_features=None,\n",
    "                 interaction_features=None,\n",
    "                 store_fmap=False):\n",
    "        if n_bits < 1 or n_bits > 31:\n",
    "            raise ValueError(\"number of bits must be in interval [1, 31]\")\n",
    "\n",
    "        self.n_bits_ = n_bits\n",
    "        self.categorical_features_ = set(categorical_features or [])\n",
    "        self.continuous_features_ = set(continuous_features or [])\n",
    "        self.interaction_features_ = set(interaction_features or [])\n",
    "        self.store_fmap = store_fmap\n",
    "\n",
    "        n_features = len(self.categorical_features_) + \\\n",
    "                     len(self.continuous_features_) + \\\n",
    "                     len(self.interaction_features_)\n",
    "        if n_features == 0:\n",
    "            raise ValueError(\"at least one features needs to be specified\")\n",
    "\n",
    "    def fit(self, X, y=None):\n",
    "        return self\n",
    "\n",
    "    def transform(self, X):\n",
    "        return _transform(\n",
    "            X, self.n_bits_, self.categorical_features_,\n",
    "            self.continuous_features_, self.interaction_features_,\n",
    "            self.store_fmap\n",
    "        )"
   ]
  },
  {
   "cell_type": "code",
   "execution_count": 126,
   "metadata": {
    "collapsed": true
   },
   "outputs": [],
   "source": [
    "class FeatureCreator():\n",
    "    \"\"\"Augment DataFrame-like input with new features.\"\"\"\n",
    "\n",
    "    def transform(self, X, inplace=False):\n",
    "        # TODO probably it's a good idea to restrict what fields from the\n",
    "        #      DataFrame are used to avoid copying the whole thing\n",
    "        if isinstance(X, pd.DataFrame):\n",
    "            X = {k: v.values for k, v in X.iteritems()}\n",
    "        if not inplace:\n",
    "            X = {k: np.copy(v) for k, v in X.iteritems()}\n",
    "        return X\n",
    "\n",
    "    def fit(self, X, y=None):\n",
    "        return self"
   ]
  },
  {
   "cell_type": "code",
   "execution_count": 127,
   "metadata": {
    "collapsed": false
   },
   "outputs": [],
   "source": [
    "def preprocessing_data(df, cat_features, cont_features, is_train=False):\n",
    "    \"\"\"\n",
    "    clean data\n",
    "    \"\"\"\n",
    "    columns = {feature : str for feature in cat_features}\n",
    "    if is_train:\n",
    "        columns['is_install'] = int\n",
    "    df = set_column_types(df, columns)\n",
    "    df = fillna0(df, columns.keys())\n",
    "    \n",
    "    # So the hash function doesn't break with nan\n",
    "    df = convert_to_unknown(df, cat_features)\n",
    "    if cont_features is not None:\n",
    "        df = scale_continuous(df, cont_features)  \n",
    "    return df\n",
    "\n",
    "def convert_to_unknown(df, columns):\n",
    "    \"\"\"\n",
    "    convert NA to 'UNK'\n",
    "    \"\"\"\n",
    "    if isinstance(df, pd.DataFrame):\n",
    "        for col in columns:\n",
    "            df[col].fillna(\"UNK\", inplace=True)\n",
    "    if isinstance(df, dict):\n",
    "        for col in columns:\n",
    "            df[col][pd.isnull(df[col])] = \"UNK\"\n",
    "    return df\n",
    "\n",
    "def scale_continuous(df, cont_cols):\n",
    "    for col in cont_cols:\n",
    "        try:\n",
    "            df.loc[-df[col].isnull(), col] = scale(df.loc[-df[col].isnull(), col])\n",
    "            df.loc[df[col].isnull(), col] = 0\n",
    "        except ValueError:\n",
    "            print(\"error with {}\".format(col))\n",
    "            df[col] = 0\n",
    "    return df\n",
    "\n",
    "def fillna0(df, columns):\n",
    "    if isinstance(df, pd.DataFrame):\n",
    "        for col in columns:\n",
    "            df[col].fillna(0, inplace=True)\n",
    "    if isinstance(df, dict):\n",
    "        for col in columns:\n",
    "            df[col][pd.isnull(df[col])] = 0\n",
    "    return df\n",
    "\n",
    "def set_column_types(df, column_types_dict):\n",
    "    if isinstance(column_types_dict, dict):\n",
    "        for c, t in column_types_dict.items():\n",
    "            df[c] = df[c].astype(t)\n",
    "        return df \n",
    "    else:\n",
    "        raise TypeError()"
   ]
  },
  {
   "cell_type": "code",
   "execution_count": 17,
   "metadata": {
    "collapsed": false
   },
   "outputs": [],
   "source": [
    "def add_features(df, is_train = False):\n",
    "    df.loc[:, 'time_of_this_request'] = pd.to_datetime(df.time_of_this_request, errors='coerce')\n",
    "    df.loc[:, 'time_of_last_delivery_any_installed_app'] = pd.to_datetime(df.time_of_last_delivery_any_installed_app,  errors='coerce')\n",
    "    \n",
    "    if is_train:\n",
    "        df.loc[:, 'is_install'] = (1.0 * ~df.timestamp_at_install.isnull())\n",
    "  \n",
    "  #language\n",
    "    df.loc[:, 'same_language'] = (df.creative_language == df.device_language)\n",
    "  \n",
    "    #time deltas\n",
    "    print(\"Calculating time deltas\")\n",
    "    df.loc[:, 's_since_delivery_any_installed_app'] = (pd.to_datetime(df.time_of_this_request, errors='coerce') - pd.to_datetime(df.time_of_last_delivery_any_installed_app, errors='coerce')).dt.seconds\n",
    "  \n",
    "  # Time info \n",
    "    print (\"Adding Hour and Day\")\n",
    "    df.loc[:, 'request_hour'] = df.time_of_this_request.dt.hour\n",
    "    df.loc[:, 'request_day_of_month'] = df.time_of_this_request.dt.day\n",
    "    df.loc[:, 'request_day_of_week'] = df.time_of_this_request.dt.dayofweek\n",
    "    df.loc[df.request_day_of_week.isin([0, 1, 5, 6]), 'request_day_of_week_3groups'] = 'A'\n",
    "    df.loc[df.request_day_of_week.isin([2, 3]), 'request_day_of_week_3groups'] = 'B'\n",
    "    df.loc[df.request_day_of_week == 4, 'request_day_of_week_3groups'] = 'C'\n",
    "    \n",
    "    df.loc[df.time_zone == 'nan','time_zone'] = np.nan\n",
    "    request_times = pd.DatetimeIndex(df.time_of_this_request).tz_localize('UTC')\n",
    "    for tz in df.time_zone.unique():\n",
    "        df.loc[df.time_zone == tz, 'tz_request_hour'] = pd.to_datetime(request_times[df.time_zone == tz].tz_convert(tz)).hour\n",
    "    \n",
    "    print(\"Merging ratings data\")\n",
    "    #ratings\n",
    "    df = merge_ratings(df)\n",
    "\n",
    "    print(\"Merging genres data\")\n",
    "    #genres\n",
    "    df = merge_genres(df)\n",
    "\n",
    "    print(\"Bucketing continuous variables\")  \n",
    "    #convert continuous to categorical groups\n",
    "    df = bucket_continuous(df)\n",
    "  \n",
    "    print(\"Finished\")\n",
    "    return df\n",
    "\n",
    "def get_n_buckets(cont_feature, n):\n",
    "    new_feature = pd.Series(['U' for x in range(len(cont_feature))])\n",
    "    cont_feature = pd.to_numeric(cont_feature, errors = 'coerce')\n",
    "    ntile = -1000000\n",
    "    for i in range(n):\n",
    "        new_ntile = np.nanpercentile(cont_feature.loc[cont_feature > ntile], 100 / (n - i))\n",
    "        new_feature.loc[(cont_feature > ntile) & (cont_feature <= new_ntile)] = new_ntile\n",
    "        ntile = new_ntile\n",
    "    new_feature.loc[cont_feature > ntile] = cont_feature.max()\n",
    "    return new_feature\n",
    "  \n",
    "def merge_ratings(df):  \n",
    "    df.loc[:, 'user_rating'] = df.loc[:, ['android_user_rating_ad','ios_current_version_user_rating_ad']].max(axis=1)\n",
    "    df.loc[:, 'n_user_ratings'] = df.loc[:, ['android_n_user_ratings_ad','ios_n_current_version_user_ratings_ad']].max(axis=1)\n",
    "    df.loc[:, 'user_rating_pub'] = df.loc[:, ['android_user_rating_pub','ios_current_version_user_rating_pub']].max(axis=1)\n",
    "    df.loc[:, 'n_user_ratings_pub'] = df.loc[:, ['android_n_user_ratings_pub','ios_n_current_version_user_ratings_pub']].max(axis=1)\n",
    "    return df\n",
    "\n",
    "def merge_genres(df):    \n",
    "    df.loc[:, 'ad_genres'] = df.android_categories_ad\n",
    "    df.loc[df.android_categories_ad.isnull(), 'ad_genres'] = df.loc[df.android_categories_ad.isnull(), 'ios_genres_ad']\n",
    "    df.loc[:, 'pub_genres'] = df.android_categories_pub\n",
    "    df.loc[df.android_categories_pub.isnull(), 'pub_genres'] = df.loc[df.android_categories_pub.isnull(), 'ios_genres_pub']\n",
    "    return df\n",
    "\n",
    "def bucket_continuous(df):    \n",
    "    groupings = [('n_vungle_installs', 5),\n",
    "               ('n_campaign_views', 8), \n",
    "               ('s_since_delivery_any_installed_app', 8),\n",
    "               ('n_user_ratings', 2),\n",
    "               ('user_rating', 8),\n",
    "               ('n_user_ratings_pub', 5)\n",
    "               ]\n",
    "    for col, n in groupings:\n",
    "        new_colname = \"{}_{}groups\".format(col, n)\n",
    "        df.loc[:, new_colname] = get_n_buckets(df[col], n)\n",
    "    return df"
   ]
  },
  {
   "cell_type": "code",
   "execution_count": 9,
   "metadata": {
    "collapsed": false
   },
   "outputs": [],
   "source": [
    "def add_grouping_columns(df, cont_feature):\n",
    "    for n in [2, 3, 5, 8, 16]:\n",
    "        df.loc[:, '{}_{}groups'.format(cont_feature, n)] = get_n_buckets(df[cont_feature], n)\n",
    "    return df    "
   ]
  },
  {
   "cell_type": "code",
   "execution_count": 130,
   "metadata": {
    "collapsed": true
   },
   "outputs": [],
   "source": [
    "def train_test(df, cat_features_pc, cont_features_pc, cat_interactions_pc):\n",
    "    X_clf = preprocessing_data(df, cat_features_pc, cont_features_pc, True)\n",
    "    train, test = train_test_split(X_clf, test_size=0.3, random_state = 27)  # splitting Train into Train/Test sets\n",
    "    y_train = train.is_install\n",
    "    X_train = train.loc[:, [x for x in train.columns if x != 'is_install']]\n",
    "    y_test = test.is_install\n",
    "    X_test = test.loc[:, [x for x in train.columns if x != 'is_install']]\n",
    "    # Feature Hashing\n",
    "    #print('Feature Creating/Hashing Train')\n",
    "    feature_creator = FeatureCreator()\n",
    "    design_matrix_transformer = FeatureHasher(20, cat_features_pc, cont_features_pc, cat_interactions_pc, store_fmap=True) # You can experiment with hasher bits (we used 18 here)\n",
    "\n",
    "    X_test = feature_creator.transform(X_test, inplace=True)\n",
    "    X_test, f_map = design_matrix_transformer.fit_transform(X_test)\n",
    "\n",
    "    X_train = feature_creator.transform(X_train, inplace=True)\n",
    "    X_train, f_map = design_matrix_transformer.fit_transform(X_train)\n",
    "    return (X_train, y_train, X_test, y_test)"
   ]
  }
 ],
 "metadata": {
  "anaconda-cloud": {},
  "kernelspec": {
   "display_name": "Python [conda env:msan]",
   "language": "python",
   "name": "conda-env-msan-py"
  },
  "language_info": {
   "codemirror_mode": {
    "name": "ipython",
    "version": 2
   },
   "file_extension": ".py",
   "mimetype": "text/x-python",
   "name": "python",
   "nbconvert_exporter": "python",
   "pygments_lexer": "ipython2",
   "version": "2.7.12"
  }
 },
 "nbformat": 4,
 "nbformat_minor": 1
}
